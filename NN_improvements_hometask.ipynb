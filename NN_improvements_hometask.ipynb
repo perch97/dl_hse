{
  "nbformat": 4,
  "nbformat_minor": 0,
  "metadata": {
    "colab": {
      "provenance": [],
      "gpuType": "T4",
      "include_colab_link": true
    },
    "kernelspec": {
      "name": "python3",
      "display_name": "Python 3"
    },
    "language_info": {
      "name": "python"
    },
    "accelerator": "GPU"
  },
  "cells": [
    {
      "cell_type": "markdown",
      "metadata": {
        "id": "view-in-github",
        "colab_type": "text"
      },
      "source": [
        "<a href=\"https://colab.research.google.com/github/perch97/dl_hse/blob/main/NN_improvements_hometask.ipynb\" target=\"_parent\"><img src=\"https://colab.research.google.com/assets/colab-badge.svg\" alt=\"Open In Colab\"/></a>"
      ]
    },
    {
      "cell_type": "markdown",
      "source": [
        "# Домашнее задание\n",
        "\n",
        "В этом домашнем задании вы обучите полносвязную нейронную сеть для решения задачи классификации на датасете CIFAR-10."
      ],
      "metadata": {
        "id": "I6ymSdFRMVhr"
      }
    },
    {
      "cell_type": "markdown",
      "source": [
        "Это домашнее задание оформлено в не совсем традиционном формате. Не хочется заставлять вас копировать код. Вы будете менять уже существующую архитектуру, а затем отвечать на вопросы."
      ],
      "metadata": {
        "id": "x8hIUNzwgV3s"
      }
    },
    {
      "cell_type": "markdown",
      "source": [
        "## Задание 1\n",
        "\n",
        "Запустите данный изначально код и замерьте качество (accuracy) на тестовых данных. Ответ округлите до целого числа.\n",
        "\n",
        "## Задание 2\n",
        "\n",
        "Добавьте еще один полносвязный слой (перед выходным) из 100 нейронов + функцию активации ReLU и запустите обучение. Выберите в ответе accuracy, наиболее близкую к полученной на тесте.\n",
        "\n",
        "## Задание 3\n",
        "\n",
        "Теперь обучите полносвязную сеть с несколькими линейными слоями с числом нейронов: 1024, 512, 256, 128, 64 соответственно + функцией ReLU на выходе из каждого внутреннего слоя. В ответе - accuracy, округленная до целого числа.\n",
        "\n",
        "## Задание 4\n",
        "\n",
        "К архитектуре из предыдущего задания добавьте Dropout(0.2) перед слоями из 1024 и 256 нейронов. Увеличилась ли accuracy по сравнению с предыдущим заданием?\n",
        "\n",
        "## Задание 5\n",
        "\n",
        "Уберите Dropout, но добавьте BatchNorm перед входом в те же линейные слои. Увеличилась ли accuracy по сравнению с заданием 3?\n",
        "\n",
        "## Задание 6\n",
        "\n",
        "Теперь пробуйте что угодно:\n",
        "* разное число линейных слоев\n",
        "* разные функции активации (вместо ReLU)\n",
        "* комбинации Dropout / BatchNorm\n",
        "* можете попробовать умные инициализации весов и другие трюки из урока\n",
        "\n",
        "Цель - добиться наибольшей accuracy на тесте."
      ],
      "metadata": {
        "id": "zKUC8Iqn0K04"
      }
    },
    {
      "cell_type": "code",
      "source": [
        "import torch\n",
        "import torch.nn as nn\n",
        "import torchvision\n",
        "import torchvision.transforms as transforms\n",
        "import random\n",
        "import numpy as np\n",
        "\n",
        "np.random.seed(0)\n",
        "random.seed(0)\n",
        "torch.manual_seed(0)"
      ],
      "metadata": {
        "id": "klXu4u9XHNtG",
        "outputId": "55d38d4e-5ea3-4a7e-add3-0568b899bec6",
        "colab": {
          "base_uri": "https://localhost:8080/"
        }
      },
      "execution_count": 1,
      "outputs": [
        {
          "output_type": "execute_result",
          "data": {
            "text/plain": [
              "<torch._C.Generator at 0x7b7b6c7b5f50>"
            ]
          },
          "metadata": {},
          "execution_count": 1
        }
      ]
    },
    {
      "cell_type": "code",
      "source": [
        "# Check Device configuration\n",
        "device = torch.device('cuda' if torch.cuda.is_available() else 'cpu')\n",
        "\n",
        "# Define Hyper-parameters\n",
        "input_size = 3072\n",
        "num_classes = 10\n",
        "num_epochs = 10\n",
        "batch_size = 32\n",
        "learning_rate = 0.001"
      ],
      "metadata": {
        "id": "4ZugxMyOHKvw"
      },
      "execution_count": 2,
      "outputs": []
    },
    {
      "cell_type": "code",
      "source": [
        "# MNIST dataset\n",
        "transform = transforms.Compose(\n",
        "    [transforms.ToTensor(),\n",
        "     transforms.Normalize((0.5, 0.5, 0.5), (0.5, 0.5, 0.5))])\n",
        "\n",
        "train_dataset = torchvision.datasets.CIFAR10(root='../../data',\n",
        "                                           train=True,\n",
        "                                           transform=transform,\n",
        "                                           download=True)\n",
        "\n",
        "test_dataset = torchvision.datasets.CIFAR10(root='../../data',\n",
        "                                          train=False,\n",
        "                                          transform=transform)"
      ],
      "metadata": {
        "id": "esjzDEyIHNvE",
        "outputId": "b9dc76c5-cc95-4f75-eebd-413604362649",
        "colab": {
          "base_uri": "https://localhost:8080/"
        }
      },
      "execution_count": 3,
      "outputs": [
        {
          "output_type": "stream",
          "name": "stdout",
          "text": [
            "Downloading https://www.cs.toronto.edu/~kriz/cifar-10-python.tar.gz to ../../data/cifar-10-python.tar.gz\n"
          ]
        },
        {
          "output_type": "stream",
          "name": "stderr",
          "text": [
            "100%|██████████| 170498071/170498071 [00:13<00:00, 12935861.61it/s]\n"
          ]
        },
        {
          "output_type": "stream",
          "name": "stdout",
          "text": [
            "Extracting ../../data/cifar-10-python.tar.gz to ../../data\n"
          ]
        }
      ]
    },
    {
      "cell_type": "code",
      "source": [
        "# Data loader\n",
        "train_loader = torch.utils.data.DataLoader(dataset=train_dataset,\n",
        "                                           batch_size=batch_size,\n",
        "                                           shuffle=True)\n",
        "\n",
        "test_loader = torch.utils.data.DataLoader(dataset=test_dataset,\n",
        "                                          batch_size=batch_size,\n",
        "                                          shuffle=False)"
      ],
      "metadata": {
        "id": "wbNr0TWOHVRI"
      },
      "execution_count": 4,
      "outputs": []
    },
    {
      "cell_type": "code",
      "source": [
        "Теперь обучите полносвязную сеть с несколькими линейными слоями с\n",
        "числом нейронов: 1024, 512, 256, 128, 64 соответственно +\n",
        "функцией ReLU на выходе из каждого внутреннего слоя. В ответе - accuracy, округленная до целого числа."
      ],
      "metadata": {
        "id": "zucdWaq2bhn9"
      },
      "execution_count": null,
      "outputs": []
    },
    {
      "cell_type": "code",
      "source": [
        "# Fully connected neural network\n",
        "class NeuralNet(nn.Module):\n",
        "    def __init__(self, input_size, num_classes):\n",
        "        super(NeuralNet, self).__init__()\n",
        "        self.fc1 = nn.Linear(input_size, 1024)\n",
        "        self.relu1 = nn.ReLU()\n",
        "        self.bn1 = nn.BatchNorm1d(1024)\n",
        "        self.fc2 = nn.Linear(1024,512)\n",
        "        self.relu2 = nn.ReLU()\n",
        "        self.fc3 = nn.Linear(512,256)\n",
        "        self.relu3 = nn.ReLU()\n",
        "        self.bn2 = nn.BatchNorm1d(256)\n",
        "        self.fc4 = nn.Linear(256,128)\n",
        "        self.relu4 = nn.ReLU()\n",
        "        self.fc5 = nn.Linear(128,64)\n",
        "        self.relu5 = nn.ReLU()\n",
        "        self.fc6 = nn.Linear(64,num_classes)\n",
        "#        self.apply(self._init_weights)\n",
        "\n",
        "    def _init_weights(self, module): # метод для различных \"умных\" инициализаций весов\n",
        "        if isinstance(module, nn.Linear):\n",
        "            module.weight.data.normal_(mean=0.0, std=0.15)\n",
        "            if module.bias is not None:\n",
        "                module.bias.data.zero_()\n",
        "\n",
        "    def forward(self, x):\n",
        "        out = self.fc1(x)\n",
        "        out = self.relu1(out)\n",
        "        out = self.bn1(out)\n",
        "        out = self.fc2(out)\n",
        "        out = self.relu2(out)\n",
        "        out = self.fc3(out)\n",
        "        out = self.relu3(out)\n",
        "        out = self.bn2(out)\n",
        "        out = self.fc4(out)\n",
        "        out = self.relu4(out)\n",
        "        out = self.fc5(out)\n",
        "        out = self.relu5(out)\n",
        "        out = self.fc6(out)\n",
        "\n",
        "        return out\n",
        "\n",
        "model = NeuralNet(input_size, num_classes).to(device)"
      ],
      "metadata": {
        "id": "eo2rzAFTHXZo"
      },
      "execution_count": 67,
      "outputs": []
    },
    {
      "cell_type": "code",
      "source": [
        "model"
      ],
      "metadata": {
        "id": "SUyBhEPgeCxr",
        "outputId": "1c8b896c-bd5c-40b3-9c03-923caf7d7fd0",
        "colab": {
          "base_uri": "https://localhost:8080/"
        }
      },
      "execution_count": 68,
      "outputs": [
        {
          "output_type": "execute_result",
          "data": {
            "text/plain": [
              "NeuralNet(\n",
              "  (fc1): Linear(in_features=3072, out_features=1024, bias=True)\n",
              "  (relu1): ReLU()\n",
              "  (bn1): BatchNorm1d(1024, eps=1e-05, momentum=0.1, affine=True, track_running_stats=True)\n",
              "  (fc2): Linear(in_features=1024, out_features=512, bias=True)\n",
              "  (relu2): ReLU()\n",
              "  (fc3): Linear(in_features=512, out_features=256, bias=True)\n",
              "  (relu3): ReLU()\n",
              "  (bn2): BatchNorm1d(256, eps=1e-05, momentum=0.1, affine=True, track_running_stats=True)\n",
              "  (fc4): Linear(in_features=256, out_features=128, bias=True)\n",
              "  (relu4): ReLU()\n",
              "  (fc5): Linear(in_features=128, out_features=64, bias=True)\n",
              "  (relu5): ReLU()\n",
              "  (fc6): Linear(in_features=64, out_features=10, bias=True)\n",
              ")"
            ]
          },
          "metadata": {},
          "execution_count": 68
        }
      ]
    },
    {
      "cell_type": "code",
      "source": [
        "\n",
        "\n",
        "# Loss and optimizer\n",
        "criterion = nn.CrossEntropyLoss()\n",
        "optimizer = torch.optim.Adam(model.parameters(), lr=learning_rate)"
      ],
      "metadata": {
        "id": "7pwBBTACHa5i"
      },
      "execution_count": 69,
      "outputs": []
    },
    {
      "cell_type": "code",
      "execution_count": 70,
      "metadata": {
        "id": "amZzGJCmFnpp",
        "collapsed": true,
        "outputId": "0cfe874d-b598-4687-f463-d3ac1550188e",
        "colab": {
          "base_uri": "https://localhost:8080/"
        }
      },
      "outputs": [
        {
          "output_type": "stream",
          "name": "stdout",
          "text": [
            "Epoch [1/10], Step [100/1563], Loss: 2.3554\n",
            "Epoch [1/10], Step [200/1563], Loss: 1.9402\n",
            "Epoch [1/10], Step [300/1563], Loss: 1.7799\n",
            "Epoch [1/10], Step [400/1563], Loss: 1.8867\n",
            "Epoch [1/10], Step [500/1563], Loss: 1.8736\n",
            "Epoch [1/10], Step [600/1563], Loss: 1.8231\n",
            "Epoch [1/10], Step [700/1563], Loss: 1.5780\n",
            "Epoch [1/10], Step [800/1563], Loss: 1.8574\n",
            "Epoch [1/10], Step [900/1563], Loss: 1.5460\n",
            "Epoch [1/10], Step [1000/1563], Loss: 1.5374\n",
            "Epoch [1/10], Step [1100/1563], Loss: 1.8431\n",
            "Epoch [1/10], Step [1200/1563], Loss: 1.7315\n",
            "Epoch [1/10], Step [1300/1563], Loss: 1.6013\n",
            "Epoch [1/10], Step [1400/1563], Loss: 1.5659\n",
            "Epoch [1/10], Step [1500/1563], Loss: 1.4564\n",
            "Epoch [2/10], Step [100/1563], Loss: 1.5531\n",
            "Epoch [2/10], Step [200/1563], Loss: 1.4152\n",
            "Epoch [2/10], Step [300/1563], Loss: 1.6362\n",
            "Epoch [2/10], Step [400/1563], Loss: 1.6650\n",
            "Epoch [2/10], Step [500/1563], Loss: 1.4063\n",
            "Epoch [2/10], Step [600/1563], Loss: 1.6981\n",
            "Epoch [2/10], Step [700/1563], Loss: 1.4597\n",
            "Epoch [2/10], Step [800/1563], Loss: 1.6384\n",
            "Epoch [2/10], Step [900/1563], Loss: 1.3708\n",
            "Epoch [2/10], Step [1000/1563], Loss: 1.2218\n",
            "Epoch [2/10], Step [1100/1563], Loss: 1.3727\n",
            "Epoch [2/10], Step [1200/1563], Loss: 1.5826\n",
            "Epoch [2/10], Step [1300/1563], Loss: 1.6480\n",
            "Epoch [2/10], Step [1400/1563], Loss: 1.4346\n",
            "Epoch [2/10], Step [1500/1563], Loss: 1.4585\n",
            "Epoch [3/10], Step [100/1563], Loss: 1.4714\n",
            "Epoch [3/10], Step [200/1563], Loss: 1.5615\n",
            "Epoch [3/10], Step [300/1563], Loss: 1.3355\n",
            "Epoch [3/10], Step [400/1563], Loss: 1.2194\n",
            "Epoch [3/10], Step [500/1563], Loss: 1.2890\n",
            "Epoch [3/10], Step [600/1563], Loss: 1.6929\n",
            "Epoch [3/10], Step [700/1563], Loss: 1.1758\n",
            "Epoch [3/10], Step [800/1563], Loss: 1.6781\n",
            "Epoch [3/10], Step [900/1563], Loss: 1.3034\n",
            "Epoch [3/10], Step [1000/1563], Loss: 1.3619\n",
            "Epoch [3/10], Step [1100/1563], Loss: 1.5552\n",
            "Epoch [3/10], Step [1200/1563], Loss: 1.3792\n",
            "Epoch [3/10], Step [1300/1563], Loss: 1.0994\n",
            "Epoch [3/10], Step [1400/1563], Loss: 1.2635\n",
            "Epoch [3/10], Step [1500/1563], Loss: 1.2945\n",
            "Epoch [4/10], Step [100/1563], Loss: 1.3150\n",
            "Epoch [4/10], Step [200/1563], Loss: 1.3160\n",
            "Epoch [4/10], Step [300/1563], Loss: 1.5010\n",
            "Epoch [4/10], Step [400/1563], Loss: 1.0452\n",
            "Epoch [4/10], Step [500/1563], Loss: 1.4158\n",
            "Epoch [4/10], Step [600/1563], Loss: 1.1736\n",
            "Epoch [4/10], Step [700/1563], Loss: 1.5124\n",
            "Epoch [4/10], Step [800/1563], Loss: 1.5282\n",
            "Epoch [4/10], Step [900/1563], Loss: 1.2165\n",
            "Epoch [4/10], Step [1000/1563], Loss: 1.1319\n",
            "Epoch [4/10], Step [1100/1563], Loss: 1.1144\n",
            "Epoch [4/10], Step [1200/1563], Loss: 1.0249\n",
            "Epoch [4/10], Step [1300/1563], Loss: 1.2308\n",
            "Epoch [4/10], Step [1400/1563], Loss: 1.5950\n",
            "Epoch [4/10], Step [1500/1563], Loss: 1.0430\n",
            "Epoch [5/10], Step [100/1563], Loss: 1.5138\n",
            "Epoch [5/10], Step [200/1563], Loss: 1.0110\n",
            "Epoch [5/10], Step [300/1563], Loss: 1.1583\n",
            "Epoch [5/10], Step [400/1563], Loss: 0.9090\n",
            "Epoch [5/10], Step [500/1563], Loss: 1.1399\n",
            "Epoch [5/10], Step [600/1563], Loss: 0.9842\n",
            "Epoch [5/10], Step [700/1563], Loss: 1.5255\n",
            "Epoch [5/10], Step [800/1563], Loss: 1.1159\n",
            "Epoch [5/10], Step [900/1563], Loss: 1.6604\n",
            "Epoch [5/10], Step [1000/1563], Loss: 1.1578\n",
            "Epoch [5/10], Step [1100/1563], Loss: 1.6989\n",
            "Epoch [5/10], Step [1200/1563], Loss: 1.2516\n",
            "Epoch [5/10], Step [1300/1563], Loss: 1.1051\n",
            "Epoch [5/10], Step [1400/1563], Loss: 1.1232\n",
            "Epoch [5/10], Step [1500/1563], Loss: 1.2070\n",
            "Epoch [6/10], Step [100/1563], Loss: 1.2622\n",
            "Epoch [6/10], Step [200/1563], Loss: 1.0865\n",
            "Epoch [6/10], Step [300/1563], Loss: 0.7473\n",
            "Epoch [6/10], Step [400/1563], Loss: 1.0107\n",
            "Epoch [6/10], Step [500/1563], Loss: 1.1163\n",
            "Epoch [6/10], Step [600/1563], Loss: 1.3851\n",
            "Epoch [6/10], Step [700/1563], Loss: 1.2010\n",
            "Epoch [6/10], Step [800/1563], Loss: 1.2950\n",
            "Epoch [6/10], Step [900/1563], Loss: 1.2475\n",
            "Epoch [6/10], Step [1000/1563], Loss: 1.1938\n",
            "Epoch [6/10], Step [1100/1563], Loss: 1.3523\n",
            "Epoch [6/10], Step [1200/1563], Loss: 1.5403\n",
            "Epoch [6/10], Step [1300/1563], Loss: 1.1714\n",
            "Epoch [6/10], Step [1400/1563], Loss: 1.3123\n",
            "Epoch [6/10], Step [1500/1563], Loss: 1.3703\n",
            "Epoch [7/10], Step [100/1563], Loss: 1.1337\n",
            "Epoch [7/10], Step [200/1563], Loss: 1.2080\n",
            "Epoch [7/10], Step [300/1563], Loss: 1.1321\n",
            "Epoch [7/10], Step [400/1563], Loss: 1.1253\n",
            "Epoch [7/10], Step [500/1563], Loss: 1.1066\n",
            "Epoch [7/10], Step [600/1563], Loss: 1.2210\n",
            "Epoch [7/10], Step [700/1563], Loss: 1.1672\n",
            "Epoch [7/10], Step [800/1563], Loss: 1.0902\n",
            "Epoch [7/10], Step [900/1563], Loss: 1.1261\n",
            "Epoch [7/10], Step [1000/1563], Loss: 1.2050\n",
            "Epoch [7/10], Step [1100/1563], Loss: 1.1842\n",
            "Epoch [7/10], Step [1200/1563], Loss: 1.0718\n",
            "Epoch [7/10], Step [1300/1563], Loss: 1.3924\n",
            "Epoch [7/10], Step [1400/1563], Loss: 1.0691\n",
            "Epoch [7/10], Step [1500/1563], Loss: 1.1961\n",
            "Epoch [8/10], Step [100/1563], Loss: 1.0384\n",
            "Epoch [8/10], Step [200/1563], Loss: 1.1008\n",
            "Epoch [8/10], Step [300/1563], Loss: 1.1146\n",
            "Epoch [8/10], Step [400/1563], Loss: 0.9107\n",
            "Epoch [8/10], Step [500/1563], Loss: 0.8782\n",
            "Epoch [8/10], Step [600/1563], Loss: 1.1453\n",
            "Epoch [8/10], Step [700/1563], Loss: 1.2051\n",
            "Epoch [8/10], Step [800/1563], Loss: 1.0766\n",
            "Epoch [8/10], Step [900/1563], Loss: 1.2060\n",
            "Epoch [8/10], Step [1000/1563], Loss: 1.1261\n",
            "Epoch [8/10], Step [1100/1563], Loss: 1.3386\n",
            "Epoch [8/10], Step [1200/1563], Loss: 1.1477\n",
            "Epoch [8/10], Step [1300/1563], Loss: 1.2856\n",
            "Epoch [8/10], Step [1400/1563], Loss: 0.8703\n",
            "Epoch [8/10], Step [1500/1563], Loss: 0.7557\n",
            "Epoch [9/10], Step [100/1563], Loss: 0.9040\n",
            "Epoch [9/10], Step [200/1563], Loss: 1.0071\n",
            "Epoch [9/10], Step [300/1563], Loss: 0.8864\n",
            "Epoch [9/10], Step [400/1563], Loss: 0.9013\n",
            "Epoch [9/10], Step [500/1563], Loss: 1.3852\n",
            "Epoch [9/10], Step [600/1563], Loss: 1.0041\n",
            "Epoch [9/10], Step [700/1563], Loss: 0.9787\n",
            "Epoch [9/10], Step [800/1563], Loss: 0.9304\n",
            "Epoch [9/10], Step [900/1563], Loss: 0.9227\n",
            "Epoch [9/10], Step [1000/1563], Loss: 0.8364\n",
            "Epoch [9/10], Step [1100/1563], Loss: 1.0211\n",
            "Epoch [9/10], Step [1200/1563], Loss: 1.5609\n",
            "Epoch [9/10], Step [1300/1563], Loss: 1.0638\n",
            "Epoch [9/10], Step [1400/1563], Loss: 1.0858\n",
            "Epoch [9/10], Step [1500/1563], Loss: 0.9254\n",
            "Epoch [10/10], Step [100/1563], Loss: 0.9189\n",
            "Epoch [10/10], Step [200/1563], Loss: 1.3022\n",
            "Epoch [10/10], Step [300/1563], Loss: 0.9381\n",
            "Epoch [10/10], Step [400/1563], Loss: 0.8008\n",
            "Epoch [10/10], Step [500/1563], Loss: 1.1233\n",
            "Epoch [10/10], Step [600/1563], Loss: 0.8744\n",
            "Epoch [10/10], Step [700/1563], Loss: 1.3758\n",
            "Epoch [10/10], Step [800/1563], Loss: 0.8714\n",
            "Epoch [10/10], Step [900/1563], Loss: 0.9344\n",
            "Epoch [10/10], Step [1000/1563], Loss: 0.7661\n",
            "Epoch [10/10], Step [1100/1563], Loss: 1.1944\n",
            "Epoch [10/10], Step [1200/1563], Loss: 1.4397\n",
            "Epoch [10/10], Step [1300/1563], Loss: 0.8081\n",
            "Epoch [10/10], Step [1400/1563], Loss: 1.0963\n",
            "Epoch [10/10], Step [1500/1563], Loss: 0.7536\n"
          ]
        }
      ],
      "source": [
        "np.random.seed(0)\n",
        "random.seed(0)\n",
        "torch.manual_seed(0)\n",
        "\n",
        "loss_log = []\n",
        "\n",
        "# Train the model\n",
        "total_step = len(train_loader)\n",
        "for epoch in range(num_epochs):\n",
        "    for i, (images, labels) in enumerate(train_loader):\n",
        "        # Move tensors to the configured device\n",
        "        images = images.reshape(-1, 32*32*3).to(device)\n",
        "        labels = labels.to(device)\n",
        "\n",
        "        # Forward pass\n",
        "        outputs = model(images)\n",
        "        loss = criterion(outputs, labels)\n",
        "\n",
        "        # Backprpagation and optimization\n",
        "        optimizer.zero_grad()\n",
        "        loss.backward()\n",
        "        optimizer.step()\n",
        "\n",
        "        if (i+1) % 100 == 0:\n",
        "            print ('Epoch [{}/{}], Step [{}/{}], Loss: {:.4f}'\n",
        "                   .format(epoch+1, num_epochs, i+1, total_step, loss.item()))\n",
        "            loss_log.append(loss.data.cpu().numpy())"
      ]
    },
    {
      "cell_type": "code",
      "source": [
        "from matplotlib import pyplot as plt\n",
        "\n",
        "plt.figure(figsize=(10,8))\n",
        "plt.plot(loss_log)"
      ],
      "metadata": {
        "id": "kSbm3gSAFomK",
        "outputId": "a94b53c0-6991-4c33-fec0-81ac67fa58be",
        "colab": {
          "base_uri": "https://localhost:8080/",
          "height": 693
        }
      },
      "execution_count": 71,
      "outputs": [
        {
          "output_type": "execute_result",
          "data": {
            "text/plain": [
              "[<matplotlib.lines.Line2D at 0x7b7a59575510>]"
            ]
          },
          "metadata": {},
          "execution_count": 71
        },
        {
          "output_type": "display_data",
          "data": {
            "text/plain": [
              "<Figure size 1000x800 with 1 Axes>"
            ],
            "image/png": "[encoded data removed]"
          },
          "metadata": {}
        }
      ]
    },
    {
      "cell_type": "code",
      "source": [
        "np.random.seed(0)\n",
        "random.seed(0)\n",
        "torch.manual_seed(0)\n",
        "\n",
        "# Test the model\n",
        "# In the test phase, don't need to compute gradients (for memory efficiency)\n",
        "with torch.no_grad():\n",
        "    correct = 0\n",
        "    total = 0\n",
        "    for images, labels in test_loader:\n",
        "        images = images.reshape(-1, 32*32*3).to(device)\n",
        "        labels = labels.to(device)\n",
        "        outputs = model(images)\n",
        "        _, predicted = torch.max(outputs.data, 1)\n",
        "        total += labels.size(0)\n",
        "        correct += (predicted == labels).sum().item()\n",
        "\n",
        "    print('Accuracy of the network on the test images: {} %'.format(100 * correct / total))\n",
        "\n",
        "# Save the model checkpoint\n",
        "torch.save(model.state_dict(), 'model.ckpt')"
      ],
      "metadata": {
        "id": "yqbF_dRiHfQf",
        "outputId": "7ffe624f-94e8-4586-db50-79f252c8a0d0",
        "colab": {
          "base_uri": "https://localhost:8080/"
        }
      },
      "execution_count": 73,
      "outputs": [
        {
          "output_type": "stream",
          "name": "stdout",
          "text": [
            "Accuracy of the network on the test images: 53.46 %\n"
          ]
        }
      ]
    },
    {
      "cell_type": "code",
      "source": [],
      "metadata": {
        "id": "x5hpfE5PbSiI"
      },
      "execution_count": 72,
      "outputs": []
    }
  ]
}